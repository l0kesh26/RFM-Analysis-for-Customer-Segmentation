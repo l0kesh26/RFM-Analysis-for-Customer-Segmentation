{
 "cells": [
  {
   "cell_type": "code",
   "execution_count": 1,
   "id": "ee054447-39ff-4db8-9fc8-948a067f9d58",
   "metadata": {},
   "outputs": [],
   "source": [
    "import pandas as pd\n",
    "import numpy as np\n",
    "import seaborn as sns\n",
    "import matplotlib as plt\n",
    "import datetime as dt\n",
    "import matplotlib.pyplot as plt"
   ]
  },
  {
   "cell_type": "code",
   "execution_count": 2,
   "id": "c37c7fd5-3224-4c7a-8a14-ffdb841616fb",
   "metadata": {},
   "outputs": [],
   "source": [
    "df = pd.read_csv(\"OnlineRetail.csv\", encoding=\"windows-1252\")"
   ]
  },
  {
   "cell_type": "code",
   "execution_count": 3,
   "id": "7eda9651-b4fc-4e96-af28-31545e6b8ee1",
   "metadata": {},
   "outputs": [
    {
     "name": "stdout",
     "output_type": "stream",
     "text": [
      "       InvoiceNo StockCode                          Description  Quantity  \\\n",
      "0         536365    85123A   WHITE HANGING HEART T-LIGHT HOLDER         6   \n",
      "1         536365     71053                  WHITE METAL LANTERN         6   \n",
      "2         536365    84406B       CREAM CUPID HEARTS COAT HANGER         8   \n",
      "3         536365    84029G  KNITTED UNION FLAG HOT WATER BOTTLE         6   \n",
      "4         536365    84029E       RED WOOLLY HOTTIE WHITE HEART.         6   \n",
      "...          ...       ...                                  ...       ...   \n",
      "541904    581587     22613          PACK OF 20 SPACEBOY NAPKINS        12   \n",
      "541905    581587     22899         CHILDREN'S APRON DOLLY GIRL          6   \n",
      "541906    581587     23254        CHILDRENS CUTLERY DOLLY GIRL          4   \n",
      "541907    581587     23255      CHILDRENS CUTLERY CIRCUS PARADE         4   \n",
      "541908    581587     22138        BAKING SET 9 PIECE RETROSPOT          3   \n",
      "\n",
      "             InvoiceDate  UnitPrice  CustomerID         Country  \n",
      "0       12-01-2010 08:26       2.55     17850.0  United Kingdom  \n",
      "1       12-01-2010 08:26       3.39     17850.0  United Kingdom  \n",
      "2       12-01-2010 08:26       2.75     17850.0  United Kingdom  \n",
      "3       12-01-2010 08:26       3.39     17850.0  United Kingdom  \n",
      "4       12-01-2010 08:26       3.39     17850.0  United Kingdom  \n",
      "...                  ...        ...         ...             ...  \n",
      "541904  12-09-2011 12:50       0.85     12680.0          France  \n",
      "541905  12-09-2011 12:50       2.10     12680.0          France  \n",
      "541906  12-09-2011 12:50       4.15     12680.0          France  \n",
      "541907  12-09-2011 12:50       4.15     12680.0          France  \n",
      "541908  12-09-2011 12:50       4.95     12680.0          France  \n",
      "\n",
      "[541909 rows x 8 columns]\n"
     ]
    }
   ],
   "source": [
    "print(df)"
   ]
  },
  {
   "cell_type": "code",
   "execution_count": 4,
   "id": "18cc2932-04b1-4ab0-9065-e341a682d3b8",
   "metadata": {},
   "outputs": [],
   "source": [
    "df.dropna(subset=['CustomerID'],inplace=True)"
   ]
  },
  {
   "cell_type": "code",
   "execution_count": 5,
   "id": "d55c39f8-3ddd-4035-b0d5-aea0e1b6981e",
   "metadata": {},
   "outputs": [],
   "source": [
    "df = df[df['Quantity'] > 0]\n",
    "df.drop_duplicates(inplace=True)"
   ]
  },
  {
   "cell_type": "code",
   "execution_count": 6,
   "id": "b49b8b51-beaa-48e9-b65a-3ed0223b8e65",
   "metadata": {},
   "outputs": [
    {
     "data": {
      "text/html": [
       "<div>\n",
       "<style scoped>\n",
       "    .dataframe tbody tr th:only-of-type {\n",
       "        vertical-align: middle;\n",
       "    }\n",
       "\n",
       "    .dataframe tbody tr th {\n",
       "        vertical-align: top;\n",
       "    }\n",
       "\n",
       "    .dataframe thead th {\n",
       "        text-align: right;\n",
       "    }\n",
       "</style>\n",
       "<table border=\"1\" class=\"dataframe\">\n",
       "  <thead>\n",
       "    <tr style=\"text-align: right;\">\n",
       "      <th></th>\n",
       "      <th>InvoiceNo</th>\n",
       "      <th>StockCode</th>\n",
       "      <th>Description</th>\n",
       "      <th>Quantity</th>\n",
       "      <th>InvoiceDate</th>\n",
       "      <th>UnitPrice</th>\n",
       "      <th>CustomerID</th>\n",
       "      <th>Country</th>\n",
       "    </tr>\n",
       "  </thead>\n",
       "  <tbody>\n",
       "    <tr>\n",
       "      <th>0</th>\n",
       "      <td>536365</td>\n",
       "      <td>85123A</td>\n",
       "      <td>WHITE HANGING HEART T-LIGHT HOLDER</td>\n",
       "      <td>6</td>\n",
       "      <td>12-01-2010 08:26</td>\n",
       "      <td>2.55</td>\n",
       "      <td>17850.0</td>\n",
       "      <td>United Kingdom</td>\n",
       "    </tr>\n",
       "    <tr>\n",
       "      <th>1</th>\n",
       "      <td>536365</td>\n",
       "      <td>71053</td>\n",
       "      <td>WHITE METAL LANTERN</td>\n",
       "      <td>6</td>\n",
       "      <td>12-01-2010 08:26</td>\n",
       "      <td>3.39</td>\n",
       "      <td>17850.0</td>\n",
       "      <td>United Kingdom</td>\n",
       "    </tr>\n",
       "    <tr>\n",
       "      <th>2</th>\n",
       "      <td>536365</td>\n",
       "      <td>84406B</td>\n",
       "      <td>CREAM CUPID HEARTS COAT HANGER</td>\n",
       "      <td>8</td>\n",
       "      <td>12-01-2010 08:26</td>\n",
       "      <td>2.75</td>\n",
       "      <td>17850.0</td>\n",
       "      <td>United Kingdom</td>\n",
       "    </tr>\n",
       "    <tr>\n",
       "      <th>3</th>\n",
       "      <td>536365</td>\n",
       "      <td>84029G</td>\n",
       "      <td>KNITTED UNION FLAG HOT WATER BOTTLE</td>\n",
       "      <td>6</td>\n",
       "      <td>12-01-2010 08:26</td>\n",
       "      <td>3.39</td>\n",
       "      <td>17850.0</td>\n",
       "      <td>United Kingdom</td>\n",
       "    </tr>\n",
       "    <tr>\n",
       "      <th>4</th>\n",
       "      <td>536365</td>\n",
       "      <td>84029E</td>\n",
       "      <td>RED WOOLLY HOTTIE WHITE HEART.</td>\n",
       "      <td>6</td>\n",
       "      <td>12-01-2010 08:26</td>\n",
       "      <td>3.39</td>\n",
       "      <td>17850.0</td>\n",
       "      <td>United Kingdom</td>\n",
       "    </tr>\n",
       "    <tr>\n",
       "      <th>...</th>\n",
       "      <td>...</td>\n",
       "      <td>...</td>\n",
       "      <td>...</td>\n",
       "      <td>...</td>\n",
       "      <td>...</td>\n",
       "      <td>...</td>\n",
       "      <td>...</td>\n",
       "      <td>...</td>\n",
       "    </tr>\n",
       "    <tr>\n",
       "      <th>541904</th>\n",
       "      <td>581587</td>\n",
       "      <td>22613</td>\n",
       "      <td>PACK OF 20 SPACEBOY NAPKINS</td>\n",
       "      <td>12</td>\n",
       "      <td>12-09-2011 12:50</td>\n",
       "      <td>0.85</td>\n",
       "      <td>12680.0</td>\n",
       "      <td>France</td>\n",
       "    </tr>\n",
       "    <tr>\n",
       "      <th>541905</th>\n",
       "      <td>581587</td>\n",
       "      <td>22899</td>\n",
       "      <td>CHILDREN'S APRON DOLLY GIRL</td>\n",
       "      <td>6</td>\n",
       "      <td>12-09-2011 12:50</td>\n",
       "      <td>2.10</td>\n",
       "      <td>12680.0</td>\n",
       "      <td>France</td>\n",
       "    </tr>\n",
       "    <tr>\n",
       "      <th>541906</th>\n",
       "      <td>581587</td>\n",
       "      <td>23254</td>\n",
       "      <td>CHILDRENS CUTLERY DOLLY GIRL</td>\n",
       "      <td>4</td>\n",
       "      <td>12-09-2011 12:50</td>\n",
       "      <td>4.15</td>\n",
       "      <td>12680.0</td>\n",
       "      <td>France</td>\n",
       "    </tr>\n",
       "    <tr>\n",
       "      <th>541907</th>\n",
       "      <td>581587</td>\n",
       "      <td>23255</td>\n",
       "      <td>CHILDRENS CUTLERY CIRCUS PARADE</td>\n",
       "      <td>4</td>\n",
       "      <td>12-09-2011 12:50</td>\n",
       "      <td>4.15</td>\n",
       "      <td>12680.0</td>\n",
       "      <td>France</td>\n",
       "    </tr>\n",
       "    <tr>\n",
       "      <th>541908</th>\n",
       "      <td>581587</td>\n",
       "      <td>22138</td>\n",
       "      <td>BAKING SET 9 PIECE RETROSPOT</td>\n",
       "      <td>3</td>\n",
       "      <td>12-09-2011 12:50</td>\n",
       "      <td>4.95</td>\n",
       "      <td>12680.0</td>\n",
       "      <td>France</td>\n",
       "    </tr>\n",
       "  </tbody>\n",
       "</table>\n",
       "<p>392732 rows × 8 columns</p>\n",
       "</div>"
      ],
      "text/plain": [
       "       InvoiceNo StockCode                          Description  Quantity  \\\n",
       "0         536365    85123A   WHITE HANGING HEART T-LIGHT HOLDER         6   \n",
       "1         536365     71053                  WHITE METAL LANTERN         6   \n",
       "2         536365    84406B       CREAM CUPID HEARTS COAT HANGER         8   \n",
       "3         536365    84029G  KNITTED UNION FLAG HOT WATER BOTTLE         6   \n",
       "4         536365    84029E       RED WOOLLY HOTTIE WHITE HEART.         6   \n",
       "...          ...       ...                                  ...       ...   \n",
       "541904    581587     22613          PACK OF 20 SPACEBOY NAPKINS        12   \n",
       "541905    581587     22899         CHILDREN'S APRON DOLLY GIRL          6   \n",
       "541906    581587     23254        CHILDRENS CUTLERY DOLLY GIRL          4   \n",
       "541907    581587     23255      CHILDRENS CUTLERY CIRCUS PARADE         4   \n",
       "541908    581587     22138        BAKING SET 9 PIECE RETROSPOT          3   \n",
       "\n",
       "             InvoiceDate  UnitPrice  CustomerID         Country  \n",
       "0       12-01-2010 08:26       2.55     17850.0  United Kingdom  \n",
       "1       12-01-2010 08:26       3.39     17850.0  United Kingdom  \n",
       "2       12-01-2010 08:26       2.75     17850.0  United Kingdom  \n",
       "3       12-01-2010 08:26       3.39     17850.0  United Kingdom  \n",
       "4       12-01-2010 08:26       3.39     17850.0  United Kingdom  \n",
       "...                  ...        ...         ...             ...  \n",
       "541904  12-09-2011 12:50       0.85     12680.0          France  \n",
       "541905  12-09-2011 12:50       2.10     12680.0          France  \n",
       "541906  12-09-2011 12:50       4.15     12680.0          France  \n",
       "541907  12-09-2011 12:50       4.15     12680.0          France  \n",
       "541908  12-09-2011 12:50       4.95     12680.0          France  \n",
       "\n",
       "[392732 rows x 8 columns]"
      ]
     },
     "execution_count": 6,
     "metadata": {},
     "output_type": "execute_result"
    }
   ],
   "source": [
    "df"
   ]
  },
  {
   "cell_type": "code",
   "execution_count": 7,
   "id": "5b9d53e1-3cf7-463f-b821-3468503e02d4",
   "metadata": {},
   "outputs": [],
   "source": [
    "df['InvoiceDate'] = pd.to_datetime(df['InvoiceDate'], format='mixed', dayfirst=False)\n",
    "df['TotalSum'] = df['Quantity']*df['UnitPrice']\n",
    "ref_date = df['InvoiceDate'].max() + pd.Timedelta(days=1)"
   ]
  },
  {
   "cell_type": "code",
   "execution_count": 8,
   "id": "196f4776-6ded-4272-a96f-78a918fb30c0",
   "metadata": {},
   "outputs": [],
   "source": [
    "rfm = df.groupby('CustomerID').agg({\n",
    "    'InvoiceDate': lambda x: (ref_date - x.max()).days,  # Recency\n",
    "    'InvoiceNo': 'count',                               # Frequency\n",
    "    'TotalSum': 'sum'                                   # Monetary\n",
    "}).reset_index()"
   ]
  },
  {
   "cell_type": "code",
   "execution_count": 9,
   "id": "a6d7c9f2-8f08-456e-a0b7-20a9cbd8b226",
   "metadata": {},
   "outputs": [],
   "source": [
    "rfm = df.groupby('CustomerID').agg({\n",
    "    'InvoiceDate': lambda x: (ref_date - x.max()).days,  # Recency\n",
    "    'InvoiceNo': 'count',                               # Frequency\n",
    "    'TotalSum': 'sum'                                   # Monetary\n",
    "}).reset_index()\n",
    "\n",
    "rfm.columns = ['CustomerID', 'Recency', 'Frequency', 'Monetary']\n"
   ]
  },
  {
   "cell_type": "code",
   "execution_count": 10,
   "id": "1af0a2e3-91b6-4eb3-97b9-db971a398015",
   "metadata": {},
   "outputs": [
    {
     "name": "stdout",
     "output_type": "stream",
     "text": [
      "       InvoiceNo StockCode                          Description  Quantity  \\\n",
      "0         536365    85123A   WHITE HANGING HEART T-LIGHT HOLDER         6   \n",
      "1         536365     71053                  WHITE METAL LANTERN         6   \n",
      "2         536365    84406B       CREAM CUPID HEARTS COAT HANGER         8   \n",
      "3         536365    84029G  KNITTED UNION FLAG HOT WATER BOTTLE         6   \n",
      "4         536365    84029E       RED WOOLLY HOTTIE WHITE HEART.         6   \n",
      "...          ...       ...                                  ...       ...   \n",
      "541904    581587     22613          PACK OF 20 SPACEBOY NAPKINS        12   \n",
      "541905    581587     22899         CHILDREN'S APRON DOLLY GIRL          6   \n",
      "541906    581587     23254        CHILDRENS CUTLERY DOLLY GIRL          4   \n",
      "541907    581587     23255      CHILDRENS CUTLERY CIRCUS PARADE         4   \n",
      "541908    581587     22138        BAKING SET 9 PIECE RETROSPOT          3   \n",
      "\n",
      "               InvoiceDate  UnitPrice  CustomerID         Country  TotalSum  \n",
      "0      2010-12-01 08:26:00       2.55     17850.0  United Kingdom     15.30  \n",
      "1      2010-12-01 08:26:00       3.39     17850.0  United Kingdom     20.34  \n",
      "2      2010-12-01 08:26:00       2.75     17850.0  United Kingdom     22.00  \n",
      "3      2010-12-01 08:26:00       3.39     17850.0  United Kingdom     20.34  \n",
      "4      2010-12-01 08:26:00       3.39     17850.0  United Kingdom     20.34  \n",
      "...                    ...        ...         ...             ...       ...  \n",
      "541904 2011-12-09 12:50:00       0.85     12680.0          France     10.20  \n",
      "541905 2011-12-09 12:50:00       2.10     12680.0          France     12.60  \n",
      "541906 2011-12-09 12:50:00       4.15     12680.0          France     16.60  \n",
      "541907 2011-12-09 12:50:00       4.15     12680.0          France     16.60  \n",
      "541908 2011-12-09 12:50:00       4.95     12680.0          France     14.85  \n",
      "\n",
      "[392732 rows x 9 columns]\n"
     ]
    }
   ],
   "source": [
    "print(df)"
   ]
  },
  {
   "cell_type": "code",
   "execution_count": 11,
   "id": "911daceb-6d0f-4d9d-8047-c4155f0450d1",
   "metadata": {},
   "outputs": [],
   "source": [
    "rfm['R_score'] = pd.qcut(rfm['Recency'], 5, labels=[5,4,3,2,1])\n",
    "rfm['F_score'] = pd.qcut(rfm['Frequency'].rank(method='first'), 5, labels=[1,2,3,4,5])\n",
    "rfm['M_score'] = pd.qcut(rfm['Monetary'], 5, labels=[1,2,3,4,5])\n",
    "\n",
    "rfm['RFM_Score'] = rfm.R_score.astype(str) + rfm.F_score.astype(str) + rfm.M_score.astype(str)\n"
   ]
  },
  {
   "cell_type": "code",
   "execution_count": 12,
   "id": "e03ac691-2759-4ad8-89b4-2c53ecff5979",
   "metadata": {},
   "outputs": [
    {
     "name": "stdout",
     "output_type": "stream",
     "text": [
      "Index(['CustomerID', 'Recency', 'Frequency', 'Monetary', 'R_score', 'F_score',\n",
      "       'M_score', 'RFM_Score'],\n",
      "      dtype='object')\n"
     ]
    }
   ],
   "source": [
    "print(rfm.columns)"
   ]
  },
  {
   "cell_type": "code",
   "execution_count": 13,
   "id": "d43dc18d-5b15-4cb1-bbba-f70edb8d72e8",
   "metadata": {},
   "outputs": [],
   "source": [
    "def segment(row):\n",
    "    if row['R_score'] >= 4 and row['F_score'] >= 4:\n",
    "        return 'Champions'\n",
    "    elif row['R_score'] >= 3 and row['F_score'] >= 3:\n",
    "        return 'Loyal Customers'\n",
    "    else:\n",
    "        return 'At Risk'\n",
    "\n",
    "rfm['Segment'] = rfm.apply(segment, axis=1)\n"
   ]
  },
  {
   "cell_type": "code",
   "execution_count": 14,
   "id": "babdefba-efd4-4578-9095-3502c5c70006",
   "metadata": {},
   "outputs": [],
   "source": [
    "rfm['R_score'] = rfm['R_score'].astype(int)\n",
    "rfm['F_score'] = rfm['F_score'].astype(int)\n"
   ]
  },
  {
   "cell_type": "code",
   "execution_count": 15,
   "id": "e1ecec00-f07c-460c-a58e-082d1a6893da",
   "metadata": {},
   "outputs": [
    {
     "name": "stderr",
     "output_type": "stream",
     "text": [
      "C:\\Users\\lapto\\AppData\\Local\\Temp\\ipykernel_8084\\1841144657.py:2: FutureWarning: \n",
      "\n",
      "Passing `palette` without assigning `hue` is deprecated and will be removed in v0.14.0. Assign the `x` variable to `hue` and set `legend=False` for the same effect.\n",
      "\n",
      "  sns.countplot(\n"
     ]
    },
    {
     "data": {
      "image/png": "[encoded data removed]",
      "text/plain": [
       "<Figure size 1000x600 with 1 Axes>"
      ]
     },
     "metadata": {},
     "output_type": "display_data"
    }
   ],
   "source": [
    "plt.figure(figsize=(10,6))\n",
    "sns.countplot(\n",
    "    data=rfm, \n",
    "    x='Segment', \n",
    "    order=rfm['Segment'].value_counts().index, \n",
    "    palette='Set2'  # try 'Set1', 'Set3', 'pastel', 'coolwarm', etc.\n",
    ")\n",
    "plt.title(\"Customer Segments by Count\")\n",
    "plt.show()\n"
   ]
  },
  {
   "cell_type": "code",
   "execution_count": null,
   "id": "ad515952-769f-4302-ae79-5f8c8b34ff4f",
   "metadata": {},
   "outputs": [],
   "source": []
  }
 ],
 "metadata": {
  "kernelspec": {
   "display_name": "Python 3 (ipykernel)",
   "language": "python",
   "name": "python3"
  },
  "language_info": {
   "codemirror_mode": {
    "name": "ipython",
    "version": 3
   },
   "file_extension": ".py",
   "mimetype": "text/x-python",
   "name": "python",
   "nbconvert_exporter": "python",
   "pygments_lexer": "ipython3",
   "version": "3.10.0"
  }
 },
 "nbformat": 4,
 "nbformat_minor": 5
}
